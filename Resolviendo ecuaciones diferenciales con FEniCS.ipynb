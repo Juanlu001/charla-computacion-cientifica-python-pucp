{
 "cells": [
  {
   "cell_type": "markdown",
   "metadata": {
    "slideshow": {
     "slide_type": "slide"
    }
   },
   "source": [
    "# Resolviendo ecuaciones diferenciales con FEniCS\n",
    "\n",
    "![](./plate3d.png)\n",
    "\n",
    "### Juan Luis Cano Rodríguez <hello@juanlu.space>\n",
    "### Pontificia Universidad Católica del Perú, Lima, 2017-05-16"
   ]
  },
  {
   "cell_type": "markdown",
   "metadata": {
    "slideshow": {
     "slide_type": "slide"
    }
   },
   "source": [
    "# Índice\n",
    "\n",
    "1. Introducción\n",
    "2. Arquitectura\n",
    "3. Instalación\n",
    "4. Ejemplo básico\n",
    "5. Problemas más complejos\n",
    "6. Recursos y alternativas\n",
    "7. Conclusiones\n",
    "8. Q & A"
   ]
  },
  {
   "cell_type": "markdown",
   "metadata": {
    "slideshow": {
     "slide_type": "slide"
    }
   },
   "source": [
    "# 1. Introducción"
   ]
  },
  {
   "cell_type": "markdown",
   "metadata": {
    "slideshow": {
     "slide_type": "subslide"
    }
   },
   "source": [
    "## ¿Qué es FEniCS?\n",
    "\n",
    "* FEniCS es una colección de bibliotecas libres para la **solución de ecuaciones diferenciales por el método de los elementos finitos**\n",
    "\n",
    "![FEniCS](img/fenics_banner.svg)\n",
    "\n",
    "* La ecuación se especifica en forma variacional utilizando un lenguaje simbólico\n",
    "* FEniCS automatiza la discretización de la ecuación diferencial\n",
    "* Para la resolución del sistema utiliza *solvers* establecidos como UMFPACK o PETSc\n",
    "* Enfoque muy matemático: artesanal y potente"
   ]
  },
  {
   "cell_type": "markdown",
   "metadata": {
    "slideshow": {
     "slide_type": "subslide"
    }
   },
   "source": [
    "## Método de los elementos finitos\n",
    "\n",
    "* Método numérico para la **aproximación de ecuaciones diferenciales**\n",
    "* Se particiona el espacio en subdominios llamados **elementos**, y en ellos se aproximan las ecuaciones\n",
    "\n",
    "![FEM](fem.png)"
   ]
  },
  {
   "cell_type": "markdown",
   "metadata": {
    "slideshow": {
     "slide_type": "slide"
    }
   },
   "source": [
    "## Historia\n",
    "\n",
    "* DOLFIN 0.2.0 en 2002: inicialmente una sola biblioteca en C++\n",
    "* En 2003 nace el proyecto FEniCS y se empieza a diversificar\n",
    "* Se van introduciendo componentes, *algunos se retiran*\n",
    "* Se libera FEniCS 1.0 en diciembre de 2011\n",
    "* Proyecto NumFOCUS en noviembre de 2016\n",
    "* **FEniCS 2017.1 el 9 de mayo de 2017**"
   ]
  },
  {
   "cell_type": "markdown",
   "metadata": {
    "slideshow": {
     "slide_type": "subslide"
    }
   },
   "source": [
    "# 2. Arquitectura\n",
    "\n",
    "![Proyecto FEniCS](fenics_project_updated.png)"
   ]
  },
  {
   "cell_type": "markdown",
   "metadata": {
    "slideshow": {
     "slide_type": "subslide"
    }
   },
   "source": [
    "## Unified Form Language\n",
    "\n",
    "![UFL-FFC-UFC](ufl-ffc-ufc.png)"
   ]
  },
  {
   "cell_type": "markdown",
   "metadata": {
    "slideshow": {
     "slide_type": "fragment"
    }
   },
   "source": [
    "* En FEniCS, las formas variacionales se expresan mediante un **lenguaje simbólico**\n",
    "* **UFL** (Unified Form Language) es este lenguaje\n",
    "* Se pretende compilar esas formas para que se evalúen más rápido\n",
    "* **UFC** (Unified Form Compiler) es el código C++ generado\n",
    "* **FFC** (FEniCS Form Compiler) es quien se encarga de esta compilación"
   ]
  },
  {
   "cell_type": "markdown",
   "metadata": {
    "slideshow": {
     "slide_type": "subslide"
    }
   },
   "source": [
    "## FFC\n",
    "\n",
    "* FFC toma la forma variacional expresada en UFL\n",
    "* **FIAT** (FInite Element Tabulator) genera los elementos finitos sobre el mallado\n",
    "* **Instant** es una interfaz simplificada para incrustar expresiones C++ en Python que se compilan con SWIG"
   ]
  },
  {
   "cell_type": "markdown",
   "metadata": {
    "slideshow": {
     "slide_type": "slide"
    }
   },
   "source": [
    "# 3. Instalación\n",
    "\n",
    "```\n",
    "$ conda install fenics -c conda-forge\n",
    "```\n",
    "\n",
    "_Y ya está :)_"
   ]
  },
  {
   "cell_type": "markdown",
   "metadata": {
    "slideshow": {
     "slide_type": "slide"
    }
   },
   "source": [
    "# 4. Ejemplo básico"
   ]
  },
  {
   "cell_type": "markdown",
   "metadata": {
    "slideshow": {
     "slide_type": "fragment"
    }
   },
   "source": [
    "Resolver **la ecuación de Poisson**\n",
    "\n",
    "$$ -\\nabla^2 u = f \\quad u \\in \\Omega,$$"
   ]
  },
  {
   "cell_type": "markdown",
   "metadata": {
    "slideshow": {
     "slide_type": "fragment"
    }
   },
   "source": [
    "en el dominio $\\Omega = [0, 1] \\times [0, 1] \\in \\mathbb{R}^2$, siendo $f = 100\\exp(-((x - 0.5)^2 + (y - 0.5)^2) / 0.02)$ el término forzante"
   ]
  },
  {
   "cell_type": "markdown",
   "metadata": {
    "slideshow": {
     "slide_type": "fragment"
    }
   },
   "source": [
    "y sometida a la condición de contorno $u = \\sin{\\left(2 \\pi x^2\\right)}$ en $\\partial\\Omega$."
   ]
  },
  {
   "cell_type": "markdown",
   "metadata": {
    "slideshow": {
     "slide_type": "subslide"
    }
   },
   "source": [
    "## Calentando motores"
   ]
  },
  {
   "cell_type": "code",
   "execution_count": 1,
   "metadata": {
    "collapsed": true,
    "slideshow": {
     "slide_type": "fragment"
    }
   },
   "outputs": [],
   "source": [
    "%matplotlib inline\n",
    "\n",
    "from fenics import *"
   ]
  },
  {
   "cell_type": "markdown",
   "metadata": {
    "slideshow": {
     "slide_type": "subslide"
    }
   },
   "source": [
    "## Dominio y mallado\n",
    "\n",
    "* En FEniCS tenemos varias funciones para crear dominios sencillos\n",
    "* En nuestro caso, queremos `UnitSquareMesh`\n",
    "* Tenemos que especificar el número de elementos de la partición"
   ]
  },
  {
   "cell_type": "code",
   "execution_count": 2,
   "metadata": {
    "collapsed": true,
    "slideshow": {
     "slide_type": "fragment"
    }
   },
   "outputs": [],
   "source": [
    "mesh = UnitSquareMesh(8, 6)\n",
    "#mesh"
   ]
  },
  {
   "cell_type": "markdown",
   "metadata": {
    "slideshow": {
     "slide_type": "subslide"
    }
   },
   "source": [
    "## Espacios de funciones\n",
    "\n",
    "* En FEM, las soluciones a las ecuaciones se buscan en **espacios de Sobolev**\n",
    "* Su elección es importante: condiciona el error de la solución\n",
    "* En FEniCS hay soporte completo para varios:\n",
    "\n",
    "![Elementos](elements.png)"
   ]
  },
  {
   "cell_type": "code",
   "execution_count": 3,
   "metadata": {
    "slideshow": {
     "slide_type": "-"
    }
   },
   "outputs": [
    {
     "data": {
      "text/plain": [
       "['Brezzi-Douglas-Fortin-Marini',\n",
       " 'Brezzi-Douglas-Marini',\n",
       " 'BrokenElement',\n",
       " 'Bubble',\n",
       " 'Crouzeix-Raviart',\n",
       " 'Discontinuous Lagrange',\n",
       " 'Discontinuous Raviart-Thomas',\n",
       " 'Discontinuous Taylor',\n",
       " 'EnrichedElement',\n",
       " 'Gauss-Legendre',\n",
       " 'Gauss-Lobatto-Legendre',\n",
       " 'HDiv Trace',\n",
       " 'Hellan-Herrmann-Johnson',\n",
       " 'Lagrange',\n",
       " 'Nedelec 1st kind H(curl)',\n",
       " 'Nedelec 2nd kind H(curl)',\n",
       " 'NodalEnrichedElement',\n",
       " 'Raviart-Thomas',\n",
       " 'Regge',\n",
       " 'TensorProductElement']"
      ]
     },
     "execution_count": 3,
     "metadata": {},
     "output_type": "execute_result"
    }
   ],
   "source": [
    "supported_elements"
   ]
  },
  {
   "cell_type": "markdown",
   "metadata": {
    "slideshow": {
     "slide_type": "subslide"
    }
   },
   "source": [
    "Para nuestro problema concreto, vamos a utilizar los clásicos **elementos polinómicos de Lagrange de orden 1**:"
   ]
  },
  {
   "cell_type": "code",
   "execution_count": 4,
   "metadata": {
    "collapsed": true,
    "slideshow": {
     "slide_type": "fragment"
    }
   },
   "outputs": [],
   "source": [
    "V = FunctionSpace(mesh, 'Lagrange', 1)\n",
    "\n",
    "u = TrialFunction(V)\n",
    "v = TestFunction(V)"
   ]
  },
  {
   "cell_type": "code",
   "execution_count": 5,
   "metadata": {},
   "outputs": [
    {
     "data": {
      "image/png": "[encoded data removed]",
      "text/latex": [
       "${v_h^{1}}$"
      ],
      "text/plain": [
       "Argument(FunctionSpace(Mesh(VectorElement(FiniteElement('Lagrange', triangle, 1), dim=2), 0), FiniteElement('Lagrange', triangle, 1)), 1, None)"
      ]
     },
     "execution_count": 5,
     "metadata": {},
     "output_type": "execute_result"
    }
   ],
   "source": [
    "u"
   ]
  },
  {
   "cell_type": "code",
   "execution_count": 6,
   "metadata": {},
   "outputs": [
    {
     "data": {
      "image/png": "[encoded data removed]",
      "text/latex": [
       "${v_h^{0}}$"
      ],
      "text/plain": [
       "Argument(FunctionSpace(Mesh(VectorElement(FiniteElement('Lagrange', triangle, 1), dim=2), 0), FiniteElement('Lagrange', triangle, 1)), 0, None)"
      ]
     },
     "execution_count": 6,
     "metadata": {},
     "output_type": "execute_result"
    }
   ],
   "source": [
    "v"
   ]
  },
  {
   "cell_type": "markdown",
   "metadata": {
    "slideshow": {
     "slide_type": "subslide"
    }
   },
   "source": [
    "## Condiciones de contorno\n",
    "\n",
    "* De dos tipos: **naturales** y **esenciales**\n",
    "* Tenemos que definir sobre qué contorno las aplicamos\n",
    "* Las primeras se crean usando `DirichletBC`:"
   ]
  },
  {
   "cell_type": "code",
   "execution_count": 7,
   "metadata": {
    "collapsed": true,
    "slideshow": {
     "slide_type": "fragment"
    }
   },
   "outputs": [],
   "source": [
    "def boundary(x, on_boundary):\n",
    "    \"\"\"El parámetro on_boundary es verdadero si el punto está\n",
    "    sobre el contorno. Podríamos hacer otro tipo de comprobaciones,\n",
    "    pero en este caso basta con devolver este mismo valor.\n",
    "\n",
    "    \"\"\"\n",
    "    return on_boundary\n",
    "\n",
    "u0 = Expression('sin(2 * pi * x[0] * x[0])', degree=2)\n",
    "bc = DirichletBC(V, u0, boundary)"
   ]
  },
  {
   "cell_type": "markdown",
   "metadata": {
    "slideshow": {
     "slide_type": "subslide"
    }
   },
   "source": [
    "## Formulación variacional\n",
    "\n",
    "* Reescribir la ecuación en forma débil es el paso más importante\n",
    "* Buscamos expresiones de este tipo:\n",
    "\n",
    "$$a(u, v) = L(v)$$\n",
    "\n",
    "* Gracias a UFL, la traducción es directa\n",
    "\n",
    "En nuestro caso:"
   ]
  },
  {
   "cell_type": "markdown",
   "metadata": {
    "slideshow": {
     "slide_type": "fragment"
    }
   },
   "source": [
    "$$-\\nabla^2 u = f$$"
   ]
  },
  {
   "cell_type": "markdown",
   "metadata": {
    "slideshow": {
     "slide_type": "fragment"
    }
   },
   "source": [
    "$$\\begin{align}\n",
    "-\\int_\\Omega (\\nabla^2 u) v dx & = \\int_\\Omega \\nabla u \\cdot \\nabla v dx - \\oint_{\\partial\\Omega} \\frac{\\partial u}{\\partial n} v ds \\\\\n",
    "& = \\int_\\Omega \\nabla u \\cdot \\nabla v dx\n",
    "\\end{align}$$"
   ]
  },
  {
   "cell_type": "markdown",
   "metadata": {
    "slideshow": {
     "slide_type": "fragment"
    }
   },
   "source": [
    "$$\\boxed{\\displaystyle \\int_\\Omega \\nabla u \\cdot \\nabla v dx = \\int_\\Omega f v dx}$$"
   ]
  },
  {
   "cell_type": "markdown",
   "metadata": {
    "slideshow": {
     "slide_type": "subslide"
    }
   },
   "source": [
    "Y ahora, la escribimos en Python:"
   ]
  },
  {
   "cell_type": "code",
   "execution_count": 8,
   "metadata": {
    "collapsed": true,
    "slideshow": {
     "slide_type": "fragment"
    }
   },
   "outputs": [],
   "source": [
    "f = Expression(\"100 * exp(-(pow(x[0] - 0.5, 2) + pow(x[1] - 0.5, 2)) / 0.02)\", degree=2)\n",
    "a = inner(nabla_grad(u), nabla_grad(v)) * dx  # Miembro izquierdo\n",
    "L = f * v * dx"
   ]
  },
  {
   "cell_type": "markdown",
   "metadata": {
    "slideshow": {
     "slide_type": "subslide"
    }
   },
   "source": [
    "### Resolvemos el sistema\n",
    "\n",
    "* FEniCS tiene interfaces a multitud de solvers\n",
    "* Necesitamos una función sobre la que escribir la solución\n",
    "* En el caso más sencillo, llamamos simplemente a la función `solve`:"
   ]
  },
  {
   "cell_type": "code",
   "execution_count": 9,
   "metadata": {
    "slideshow": {
     "slide_type": "fragment"
    }
   },
   "outputs": [
    {
     "data": {
      "text/plain": [
       "1.7801108583256924"
      ]
     },
     "execution_count": 9,
     "metadata": {},
     "output_type": "execute_result"
    }
   ],
   "source": [
    "u = Function(V)\n",
    "solve(a == L, u, bc)\n",
    "\n",
    "max(abs(u.vector().array()))  # Array de valores numéricos"
   ]
  },
  {
   "cell_type": "markdown",
   "metadata": {
    "slideshow": {
     "slide_type": "subslide"
    }
   },
   "source": [
    "## Los colorines"
   ]
  },
  {
   "cell_type": "code",
   "execution_count": 10,
   "metadata": {},
   "outputs": [
    {
     "data": {
      "text/plain": [
       "<matplotlib.tri.tricontour.TriContourSet at 0x7f368f755358>"
      ]
     },
     "execution_count": 10,
     "metadata": {},
     "output_type": "execute_result"
    },
    {
     "data": {
      "image/png": "[encoded data removed]",
      "text/plain": [
       "<matplotlib.figure.Figure at 0x7f36924f5358>"
      ]
     },
     "metadata": {},
     "output_type": "display_data"
    }
   ],
   "source": [
    "plot(u)"
   ]
  },
  {
   "cell_type": "code",
   "execution_count": 11,
   "metadata": {},
   "outputs": [
    {
     "data": {
      "text/plain": [
       "[<matplotlib.lines.Line2D at 0x7f368f6822b0>,\n",
       " <matplotlib.lines.Line2D at 0x7f368f6bc240>]"
      ]
     },
     "execution_count": 11,
     "metadata": {},
     "output_type": "execute_result"
    },
    {
     "data": {
      "image/png": "[encoded data removed]",
      "text/plain": [
       "<matplotlib.figure.Figure at 0x7f368f705f60>"
      ]
     },
     "metadata": {},
     "output_type": "display_data"
    }
   ],
   "source": [
    "plot(u)\n",
    "plot(mesh)"
   ]
  },
  {
   "cell_type": "code",
   "execution_count": 12,
   "metadata": {
    "collapsed": true
   },
   "outputs": [],
   "source": [
    "from IPython.display import HTML"
   ]
  },
  {
   "cell_type": "code",
   "execution_count": 13,
   "metadata": {
    "scrolled": false
   },
   "outputs": [
    {
     "data": {
      "text/html": [
       "<!DOCTYPE html>\n",
       "<html>\n",
       "  <head>\n",
       "    <meta http-equiv=\"content-type\" content=\"text/html;charset=UTF-8\" />\n",
       "    <meta name=\"generator\" content=\"FEniCS/DOLFIN (http://fenicsproject.org)\" />\n",
       "    <title>FEniCS/DOLFIN X3DOM plot</title>\n",
       "    <script type=\"text/javascript\" src=\"https://www.x3dom.org/download/x3dom.js\"></script>\n",
       "    <script type=\"text/javascript\" src=\"https://code.jquery.com/jquery-3.1.0.js\"></script>\n",
       "    <script type=\"text/javascript\" src=\"https://rawgit.com/plscott/fenics-x3dom/master/x3dom_support.js\"></script>\n",
       "    <link rel=\"stylesheet\" type=\"text/css\" href=\"https://www.x3dom.org/download/x3dom.css\" />\n",
       "    <link rel=\"stylesheet\" type=\"text/css\" href=\"https://rawgit.com/plscott/fenics-x3dom/master/x3dom_support.css\" />\n",
       "  </head>\n",
       "  <body>\n",
       "    <x3d showStat=\"false\" xmlns=\"http://www.web3d.org/specifications/x3d-namespace\" width=\"500.000000px\" height=\"400.000000px\">\n",
       "      <scene>\n",
       "        <shape>\n",
       "          <appearance>\n",
       "            <material diffuseColor=\"1.000000 1.000000 1.000000\" emissiveColor=\"0.000000 0.000000 0.000000\" specularColor=\"0.000000 0.000000 0.000000\" ambientIntensity=\"0\" shininess=\"0.5\" transparency=\"0\"></material>\n",
       "          </appearance>\n",
       "          <indexedFaceSet solid=\"false\" colorPerVertex=\"true\" coordIndex=\"0 1 10 -1 0 9 10 -1 1 2 11 -1 1 10 11 -1 2 3 12 -1 2 11 12 -1 3 4 13 -1 3 12 13 -1 4 5 14 -1 4 13 14 -1 5 6 15 -1 5 14 15 -1 6 7 16 -1 6 15 16 -1 7 8 17 -1 7 16 17 -1 9 10 19 -1 9 18 19 -1 10 11 20 -1 10 19 20 -1 11 12 21 -1 11 20 21 -1 12 13 22 -1 12 21 22 -1 13 14 23 -1 13 22 23 -1 14 15 24 -1 14 23 24 -1 15 16 25 -1 15 24 25 -1 16 17 26 -1 16 25 26 -1 18 19 28 -1 18 27 28 -1 19 20 29 -1 19 28 29 -1 20 21 30 -1 20 29 30 -1 21 22 31 -1 21 30 31 -1 22 23 32 -1 22 31 32 -1 23 24 33 -1 23 32 33 -1 24 25 34 -1 24 33 34 -1 25 26 35 -1 25 34 35 -1 27 28 37 -1 27 36 37 -1 28 29 38 -1 28 37 38 -1 29 30 39 -1 29 38 39 -1 30 31 40 -1 30 39 40 -1 31 32 41 -1 31 40 41 -1 32 33 42 -1 32 41 42 -1 33 34 43 -1 33 42 43 -1 34 35 44 -1 34 43 44 -1 36 37 46 -1 36 45 46 -1 37 38 47 -1 37 46 47 -1 38 39 48 -1 38 47 48 -1 39 40 49 -1 39 48 49 -1 40 41 50 -1 40 49 50 -1 41 42 51 -1 41 50 51 -1 42 43 52 -1 42 51 52 -1 43 44 53 -1 43 52 53 -1 45 46 55 -1 45 54 55 -1 46 47 56 -1 46 55 56 -1 47 48 57 -1 47 56 57 -1 48 49 58 -1 48 57 58 -1 49 50 59 -1 49 58 59 -1 50 51 60 -1 50 59 60 -1 51 52 61 -1 51 60 61 -1 52 53 62 -1 52 61 62 -1 \">\n",
       "            <coordinate point=\"0 0 0 0.125 0 0 0.25 0 0 0.375 0 0 0.5 0 0 0.625 0 0 0.75 0 0 0.875 0 0 1 0 0 0 0.166667 0 0.125 0.166667 0 0.25 0.166667 0 0.375 0.166667 0 0.5 0.166667 0 0.625 0.166667 0 0.75 0.166667 0 0.875 0.166667 0 1 0.166667 0 0 0.333333 0 0.125 0.333333 0 0.25 0.333333 0 0.375 0.333333 0 0.5 0.333333 0 0.625 0.333333 0 0.75 0.333333 0 0.875 0.333333 0 1 0.333333 0 0 0.5 0 0.125 0.5 0 0.25 0.5 0 0.375 0.5 0 0.5 0.5 0 0.625 0.5 0 0.75 0.5 0 0.875 0.5 0 1 0.5 0 0 0.666667 0 0.125 0.666667 0 0.25 0.666667 0 0.375 0.666667 0 0.5 0.666667 0 0.625 0.666667 0 0.75 0.666667 0 0.875 0.666667 0 1 0.666667 0 0 0.833333 0 0.125 0.833333 0 0.25 0.833333 0 0.375 0.833333 0 0.5 0.833333 0 0.625 0.833333 0 0.75 0.833333 0 0.875 0.833333 0 1 0.833333 0 0 1 0 0.125 1 0 0.25 1 0 0.375 1 0 0.5 1 0 0.625 1 0 0.75 1 0 0.875 1 0 1 1 0 \"></coordinate>\n",
       "            <metadata min_value=\"-0.995185\" max_value=\"1.780111\" color_map=\"0.000000 0.000000 1.000000 0.000000 0.000062 0.999908 0.000002 0.000246 0.999635 0.000006 0.000554 0.999183 0.000015 0.000984 0.998554 0.000030 0.001537 0.997753 0.000051 0.002213 0.996781 0.000081 0.003012 0.995642 0.000121 0.003933 0.994339 0.000171 0.004976 0.992873 0.000234 0.006142 0.991248 0.000311 0.007429 0.989467 0.000402 0.008839 0.987532 0.000510 0.010369 0.985446 0.000635 0.012021 0.983211 0.000778 0.013793 0.980831 0.000942 0.015686 0.978308 0.001126 0.017699 0.975644 0.001332 0.019831 0.972843 0.001562 0.022084 0.969907 0.001816 0.024455 0.966837 0.002096 0.026944 0.963638 0.002402 0.029552 0.960311 0.002737 0.032277 0.956860 0.003099 0.035119 0.953285 0.003492 0.038077 0.949591 0.003916 0.041152 0.945780 0.004371 0.044342 0.941853 0.004859 0.047646 0.937814 0.005382 0.051065 0.933664 0.005939 0.054597 0.929407 0.006531 0.058242 0.925044 0.007161 0.061999 0.920579 0.007828 0.065868 0.916013 0.008533 0.069847 0.911348 0.009278 0.073936 0.906588 0.010063 0.078134 0.901734 0.010890 0.082441 0.896788 0.011758 0.086855 0.891754 0.012668 0.091375 0.886632 0.013623 0.096002 0.881426 0.014621 0.100733 0.876138 0.015665 0.105568 0.870769 0.016754 0.110507 0.865323 0.017890 0.115547 0.859800 0.019073 0.120688 0.854204 0.020304 0.125930 0.848537 0.021583 0.131270 0.842800 0.022912 0.136708 0.836996 0.024291 0.142243 0.831126 0.025720 0.147874 0.825194 0.027200 0.153600 0.819200 0.028732 0.159419 0.813147 0.030316 0.165331 0.807038 0.031953 0.171333 0.800873 0.033643 0.177426 0.794655 0.035387 0.183607 0.788386 0.037185 0.189875 0.782068 0.039039 0.196230 0.775703 0.040947 0.202670 0.769292 0.042911 0.209193 0.762838 0.044932 0.215798 0.756343 0.047009 0.222484 0.749808 0.049143 0.229250 0.743235 0.051335 0.236093 0.736626 0.053584 0.243013 0.729983 0.055891 0.250008 0.723307 0.058257 0.257077 0.716601 0.060681 0.264217 0.709867 0.063165 0.271428 0.703105 0.065708 0.278709 0.696318 0.068311 0.286056 0.689507 0.070973 0.293470 0.682674 0.073695 0.300947 0.675821 0.076478 0.308487 0.668950 0.079321 0.316088 0.662061 0.082225 0.323748 0.655157 0.085190 0.331466 0.648240 0.088216 0.339239 0.641310 0.091302 0.347066 0.634370 0.094450 0.354946 0.627420 0.097660 0.362876 0.620464 0.100930 0.370854 0.613501 0.104262 0.378879 0.606534 0.107656 0.386949 0.599564 0.111111 0.395062 0.592593 0.114628 0.403216 0.585621 0.118206 0.411408 0.578651 0.121845 0.419638 0.571684 0.125546 0.427903 0.564721 0.129309 0.436202 0.557764 0.133132 0.444531 0.550814 0.137017 0.452889 0.543872 0.140963 0.461274 0.536940 0.144970 0.469685 0.530019 0.149038 0.478117 0.523110 0.153167 0.486571 0.516215 0.157356 0.495043 0.509335 0.161605 0.503531 0.502470 0.165914 0.512033 0.495624 0.170283 0.520546 0.488796 0.174712 0.529069 0.481987 0.179200 0.537600 0.475200 0.183747 0.546135 0.468435 0.188353 0.554673 0.461693 0.193017 0.563212 0.454975 0.197740 0.571748 0.448283 0.202520 0.580279 0.441618 0.207358 0.588804 0.434981 0.212252 0.597319 0.428372 0.217203 0.605823 0.421793 0.222211 0.614312 0.415245 0.227274 0.622784 0.408728 0.232392 0.631237 0.402245 0.237566 0.639668 0.395796 0.242793 0.648074 0.389381 0.248075 0.656453 0.383002 0.253410 0.664803 0.376660 0.258797 0.673120 0.370355 0.264237 0.681402 0.364089 0.269729 0.689647 0.357862 0.275271 0.697851 0.351676 0.280864 0.706012 0.345530 0.286507 0.714127 0.339426 0.292199 0.722193 0.333366 0.297940 0.730207 0.327348 0.303729 0.738168 0.321375 0.309565 0.746071 0.315447 0.315447 0.753914 0.309565 0.321375 0.761694 0.303729 0.327348 0.769408 0.297940 0.333366 0.777053 0.292199 0.339426 0.784627 0.286507 0.345530 0.792126 0.280864 0.351676 0.799547 0.275271 0.357862 0.806887 0.269729 0.364089 0.814143 0.264237 0.370355 0.821313 0.258797 0.376660 0.828392 0.253410 0.383002 0.835378 0.248075 0.389381 0.842268 0.242793 0.395796 0.849058 0.237566 0.402245 0.855746 0.232392 0.408728 0.862328 0.227274 0.415245 0.868801 0.222211 0.421793 0.875161 0.217203 0.428372 0.881406 0.212252 0.434981 0.887531 0.207358 0.441618 0.893535 0.202520 0.448283 0.899413 0.197740 0.454975 0.905162 0.193017 0.461693 0.910778 0.188353 0.468435 0.916259 0.183747 0.475200 0.921600 0.179200 0.481987 0.926799 0.174712 0.488796 0.931851 0.170283 0.495624 0.936754 0.165914 0.502470 0.941503 0.161605 0.509335 0.946096 0.157356 0.516215 0.950528 0.153167 0.523110 0.954797 0.149038 0.530019 0.958898 0.144970 0.536940 0.962827 0.140963 0.543872 0.966582 0.137017 0.550814 0.970158 0.133132 0.557764 0.973552 0.129309 0.564721 0.976759 0.125546 0.571684 0.979777 0.121845 0.578651 0.982602 0.118206 0.585621 0.985229 0.114628 0.592593 0.987654 0.111111 0.599564 0.989875 0.107656 0.606534 0.991887 0.104262 0.613501 0.993686 0.100930 0.620464 0.995268 0.097660 0.627420 0.996630 0.094450 0.634370 0.997767 0.091302 0.641310 0.998675 0.088216 0.648240 0.999351 0.085190 0.655157 0.999790 0.082225 0.662061 0.999988 0.079321 0.668950 0.999942 0.076478 0.675821 0.999646 0.073695 0.682674 0.999098 0.070973 0.689507 0.998292 0.068311 0.696318 0.997226 0.065708 0.703105 0.995893 0.063165 0.709867 0.994291 0.060681 0.716601 0.992415 0.058257 0.723307 0.990261 0.055891 0.729983 0.987825 0.053584 0.736626 0.985101 0.051335 0.743235 0.982087 0.049143 0.749808 0.978777 0.047009 0.756343 0.975167 0.044932 0.762838 0.971253 0.042911 0.769292 0.967030 0.040947 0.775703 0.962494 0.039039 0.782068 0.957641 0.037185 0.788386 0.952466 0.035387 0.794655 0.946964 0.033643 0.800873 0.941131 0.031953 0.807038 0.934962 0.030316 0.813147 0.928454 0.028732 0.819200 0.921600 0.027200 0.825194 0.914397 0.025720 0.831126 0.906840 0.024291 0.836996 0.898924 0.022912 0.842800 0.890645 0.021583 0.848537 0.881998 0.020304 0.854204 0.872978 0.019073 0.859800 0.863580 0.017890 0.865323 0.853800 0.016754 0.870769 0.843633 0.015665 0.876138 0.833074 0.014621 0.881426 0.822118 0.013623 0.886632 0.810760 0.012668 0.891754 0.798995 0.011758 0.896788 0.786820 0.010890 0.901734 0.774227 0.010063 0.906588 0.761213 0.009278 0.911348 0.747773 0.008533 0.916013 0.733901 0.007828 0.920579 0.719593 0.007161 0.925044 0.704843 0.006531 0.929407 0.689647 0.005939 0.933664 0.673999 0.005382 0.937814 0.657894 0.004859 0.941853 0.641328 0.004371 0.945780 0.624294 0.003916 0.949591 0.606788 0.003492 0.953285 0.588804 0.003099 0.956860 0.570338 0.002737 0.960311 0.551383 0.002402 0.963638 0.531936 0.002096 0.966837 0.511990 0.001816 0.969907 0.491539 0.001562 0.972843 0.470580 0.001332 0.975644 0.449106 0.001126 0.978308 0.427112 0.000942 0.980831 0.404593 0.000778 0.983211 0.381543 0.000635 0.985446 0.357956 0.000510 0.987532 0.333828 0.000402 0.989467 0.309152 0.000311 0.991248 0.283924 0.000234 0.992873 0.258137 0.000171 0.994339 0.231786 0.000121 0.995642 0.204865 0.000081 0.996781 0.177370 0.000051 0.997753 0.149293 0.000030 0.998554 0.120631 0.000015 0.999183 0.091375 0.000006 0.999635 0.061523 0.000002 0.999908 0.031066 0.000000 1.000000 0.000000 0.000000 \" indices=\"91 100 126 162 183 149 56 0 91 91 115 143 168 176 154 114 86 91 91 126 164 202 216 191 149 115 91 91 131 176 227 255 222 168 124 91 91 125 161 198 216 195 152 116 91 91 115 142 166 176 155 115 87 91 91 100 126 162 183 149 56 0 91 \"></metadata>\n",
       "          </indexedFaceSet>\n",
       "        </shape>\n",
       "        <shape>\n",
       "          <appearance>\n",
       "            <material emissiveColor=\"0.000000 0.000000 0.000000\" specularColor=\"0.000000 0.000000 0.000000\" ambientIntensity=\"0\" shininess=\"0.5\" transparency=\"0\"></material>\n",
       "          </appearance>\n",
       "          <indexedLineSet solid=\"false\" colorPerVertex=\"false\" coordIndex=\"0 1 -1 0 9 -1 0 10 -1 1 2 -1 1 10 -1 1 11 -1 2 3 -1 2 11 -1 2 12 -1 3 4 -1 3 12 -1 3 13 -1 4 5 -1 4 13 -1 4 14 -1 5 6 -1 5 14 -1 5 15 -1 6 7 -1 6 15 -1 6 16 -1 7 8 -1 7 16 -1 7 17 -1 8 17 -1 9 10 -1 9 18 -1 9 19 -1 10 11 -1 10 19 -1 10 20 -1 11 12 -1 11 20 -1 11 21 -1 12 13 -1 12 21 -1 12 22 -1 13 14 -1 13 22 -1 13 23 -1 14 15 -1 14 23 -1 14 24 -1 15 16 -1 15 24 -1 15 25 -1 16 17 -1 16 25 -1 16 26 -1 17 26 -1 18 19 -1 18 27 -1 18 28 -1 19 20 -1 19 28 -1 19 29 -1 20 21 -1 20 29 -1 20 30 -1 21 22 -1 21 30 -1 21 31 -1 22 23 -1 22 31 -1 22 32 -1 23 24 -1 23 32 -1 23 33 -1 24 25 -1 24 33 -1 24 34 -1 25 26 -1 25 34 -1 25 35 -1 26 35 -1 27 28 -1 27 36 -1 27 37 -1 28 29 -1 28 37 -1 28 38 -1 29 30 -1 29 38 -1 29 39 -1 30 31 -1 30 39 -1 30 40 -1 31 32 -1 31 40 -1 31 41 -1 32 33 -1 32 41 -1 32 42 -1 33 34 -1 33 42 -1 33 43 -1 34 35 -1 34 43 -1 34 44 -1 35 44 -1 36 37 -1 36 45 -1 36 46 -1 37 38 -1 37 46 -1 37 47 -1 38 39 -1 38 47 -1 38 48 -1 39 40 -1 39 48 -1 39 49 -1 40 41 -1 40 49 -1 40 50 -1 41 42 -1 41 50 -1 41 51 -1 42 43 -1 42 51 -1 42 52 -1 43 44 -1 43 52 -1 43 53 -1 44 53 -1 45 46 -1 45 54 -1 45 55 -1 46 47 -1 46 55 -1 46 56 -1 47 48 -1 47 56 -1 47 57 -1 48 49 -1 48 57 -1 48 58 -1 49 50 -1 49 58 -1 49 59 -1 50 51 -1 50 59 -1 50 60 -1 51 52 -1 51 60 -1 51 61 -1 52 53 -1 52 61 -1 52 62 -1 53 62 -1 54 55 -1 55 56 -1 56 57 -1 57 58 -1 58 59 -1 59 60 -1 60 61 -1 61 62 -1 \">\n",
       "            <coordinate point=\"0 0 0 0.125 0 0 0.25 0 0 0.375 0 0 0.5 0 0 0.625 0 0 0.75 0 0 0.875 0 0 1 0 0 0 0.166667 0 0.125 0.166667 0 0.25 0.166667 0 0.375 0.166667 0 0.5 0.166667 0 0.625 0.166667 0 0.75 0.166667 0 0.875 0.166667 0 1 0.166667 0 0 0.333333 0 0.125 0.333333 0 0.25 0.333333 0 0.375 0.333333 0 0.5 0.333333 0 0.625 0.333333 0 0.75 0.333333 0 0.875 0.333333 0 1 0.333333 0 0 0.5 0 0.125 0.5 0 0.25 0.5 0 0.375 0.5 0 0.5 0.5 0 0.625 0.5 0 0.75 0.5 0 0.875 0.5 0 1 0.5 0 0 0.666667 0 0.125 0.666667 0 0.25 0.666667 0 0.375 0.666667 0 0.5 0.666667 0 0.625 0.666667 0 0.75 0.666667 0 0.875 0.666667 0 1 0.666667 0 0 0.833333 0 0.125 0.833333 0 0.25 0.833333 0 0.375 0.833333 0 0.5 0.833333 0 0.625 0.833333 0 0.75 0.833333 0 0.875 0.833333 0 1 0.833333 0 0 1 0 0.125 1 0 0.25 1 0 0.375 1 0 0.5 1 0 0.625 1 0 0.75 1 0 0.875 1 0 1 1 0 \"></coordinate>\n",
       "          </indexedLineSet>\n",
       "        </shape>\n",
       "        <viewpoint id=\"default\" position=\"1.914214 1.914214 1.414214\" orientation=\"-0.7071067812 0.7071067812 0 1\" fieldOfView=\"0.785398\" centerOfRotation=\"0.500000 0.500000 0.000000\" zNear=\"-1\" zFar=\"-1\"></viewpoint>\n",
       "        <viewpoint id=\"top\" position=\"0.500000 2.500000 0.000000\" orientation=\"-1 0 0 1.5707963267948\" fieldOfView=\"0.785398\" centerOfRotation=\"0.500000 0.500000 0.000000\" zNear=\"-1\" zFar=\"-1\"></viewpoint>\n",
       "        <viewpoint id=\"bottom\" position=\"0.500000 -1.500000 0.000000\" orientation=\"1 0 0 1.5707963267948\" fieldOfView=\"0.785398\" centerOfRotation=\"0.500000 0.500000 0.000000\" zNear=\"-1\" zFar=\"-1\"></viewpoint>\n",
       "        <viewpoint id=\"left\" position=\"2.500000 0.500000 0.000000\" orientation=\"0 1 0 1.5707963267948\" fieldOfView=\"0.785398\" centerOfRotation=\"0.500000 0.500000 0.000000\" zNear=\"-1\" zFar=\"-1\"></viewpoint>\n",
       "        <viewpoint id=\"right\" position=\"-1.500000 0.500000 0.000000\" orientation=\"0 -1 0 1.5707963267948\" fieldOfView=\"0.785398\" centerOfRotation=\"0.500000 0.500000 0.000000\" zNear=\"-1\" zFar=\"-1\"></viewpoint>\n",
       "        <viewpoint id=\"back\" position=\"0.500000 0.500000 -2.000000\" orientation=\"0 1 0 3.1415926535898\" fieldOfView=\"0.785398\" centerOfRotation=\"0.500000 0.500000 0.000000\" zNear=\"-1\" zFar=\"-1\"></viewpoint>\n",
       "        <viewpoint id=\"front\" position=\"0.500000 0.500000 2.000000\" orientation=\"0 0 0 1\" fieldOfView=\"0.785398\" centerOfRotation=\"0.500000 0.500000 0.000000\" zNear=\"-1\" zFar=\"-1\"></viewpoint>\n",
       "        <background skyColor=\"0.950000 0.950000 0.950000\"></background>\n",
       "        <directionalLight ambientIntensity=\"0\" intensity=\"1\"></directionalLight>\n",
       "      </scene>\n",
       "    </x3d>\n",
       "    <div id=\"menu\"><form id=\"menu-items\"><input type=\"radio\" id=\"button-options\" name=\"menu\" checked=\"\" />\n",
       "        <label for=\"button-options\">Options</label>\n",
       "        <input type=\"radio\" id=\"button-summary\" name=\"menu\" />\n",
       "        <label for=\"button-summary\" style=\"display: none;\">Summary</label>\n",
       "        <input type=\"radio\" id=\"button-color\" name=\"menu\" />\n",
       "        <label for=\"button-color\" style=\"display: none;\">Color</label>\n",
       "        <input type=\"radio\" id=\"button-warp\" name=\"menu\" />\n",
       "        <label for=\"button-warp\" style=\"display: none;\">Warp</label>\n",
       "        <input type=\"radio\" id=\"button-viewpoints\" name=\"menu\" />\n",
       "        <label for=\"button-viewpoints\" style=\"display: none;\">Viewpoints</label>\n",
       "      </form>\n",
       "      <div id=\"menu-content\"><div id=\"content-options\" for=\"button-options\"><span>Menu Options</span>\n",
       "          <br />\n",
       "          <form class=\"options\"><input type=\"checkbox\" id=\"select-summary\" />\n",
       "            <label for=\"select-summary\">Summary</label>\n",
       "          </form>\n",
       "          <br />\n",
       "          <form class=\"options\"><input type=\"checkbox\" id=\"select-color\" />\n",
       "            <label for=\"select-color\">Color</label>\n",
       "          </form>\n",
       "          <br />\n",
       "          <form class=\"options\"><input type=\"checkbox\" id=\"select-warp\" />\n",
       "            <label for=\"select-warp\">Warp</label>\n",
       "          </form>\n",
       "          <br />\n",
       "          <form class=\"options\"><input type=\"checkbox\" id=\"select-viewpoints\" />\n",
       "            <label for=\"select-viewpoints\">Viewpoints</label>\n",
       "          </form>\n",
       "        </div>\n",
       "        <div id=\"content-summary\" for=\"button-summary\" hidden=\"\">Number of vertices: 63<br />Number of cells: 96</div>\n",
       "        <div id=\"content-color\" for=\"button-color\" hidden=\"\"><form>\n",
       "            <input id=\"color-checkbox\" type=\"checkbox\" checked=\"\" />\n",
       "            <label for=\"color-checkbox\">Show Color</label>\n",
       "          </form>Current Color Map:<br />\n",
       "          <span id=\"min-color-value\"></span>\n",
       "          <span id=\"color-map\"></span>\n",
       "          <span id=\"max-color-value\"></span>\n",
       "        </div>\n",
       "        <div id=\"content-warp\" for=\"button-warp\" hidden=\"\"><form>\n",
       "            <input id=\"warp-checkbox\" type=\"checkbox\" />\n",
       "            <label for=\"warp-checkbox\">Warp By Scalar</label>\n",
       "            <br />\n",
       "            <input id=\"warp-slider\" type=\"range\" min=\"0\" max=\"5\" step=\"0.01\" value=\"1\" disabled=\"\" />\n",
       "            <br />\n",
       "            <label id=\"warp-slider-val\" for=\"warp-slider\">1</label>\n",
       "          </form>\n",
       "        </div>\n",
       "        <div id=\"content-viewpoints\" for=\"button-viewpoints\" hidden=\"\"><span>Viewpoint Options</span>\n",
       "          <br />\n",
       "          <button class=\"viewpoint\">front</button>\n",
       "          <button class=\"viewpoint\">back</button>\n",
       "          <button class=\"viewpoint\">left</button>\n",
       "          <br />\n",
       "          <button class=\"viewpoint\">right</button>\n",
       "          <button class=\"viewpoint\">top</button>\n",
       "          <button class=\"viewpoint\">bottom</button>\n",
       "        </div>\n",
       "      </div>\n",
       "    </div>\n",
       "  </body>\n",
       "</html>\n"
      ],
      "text/plain": [
       "<IPython.core.display.HTML object>"
      ]
     },
     "execution_count": 13,
     "metadata": {},
     "output_type": "execute_result"
    }
   ],
   "source": [
    "HTML(X3DOM().html(u))"
   ]
  },
  {
   "cell_type": "markdown",
   "metadata": {
    "slideshow": {
     "slide_type": "slide"
    }
   },
   "source": [
    "# 5. Problemas más complejos"
   ]
  },
  {
   "cell_type": "markdown",
   "metadata": {
    "slideshow": {
     "slide_type": "fragment"
    }
   },
   "source": [
    "* La formulación variacional puede ser bastante complicada\\*\n",
    "\n",
    "$$ \\begin{split}\\sum_{K \\in \\mathcal{T}} \\int_{K} \\nabla^{2} u \\nabla^{2} v \\, dx \\\n",
    "- \\int_{\\Gamma} \\left<\\nabla^{2} u \\right>  [\\!\\![ \\nabla v ]\\!\\!] \\, ds\n",
    "- \\int_{\\Gamma}[\\!\\![  \\nabla u ]\\!\\!]  \\left<\\nabla^{2} v \\right>  \\, ds\n",
    "+ \\int_{\\Gamma} \\frac{\\alpha}{h}[\\!\\![ \\nabla u ]\\!\\!]  [\\!\\![ \\nabla v ]\\!\\!]  \\, ds\n",
    "= \\int_{\\Omega} vf \\, dx \\quad \\forall \\ v \\in V\\end{split} $$\n",
    "\n",
    "\\*<small>[Formulación con funciones *penalty* para la ecuación biharmónica](http://fenicsproject.org/documentation/dolfin/1.5.0/python/demo/documented/biharmonic/python/documentation.html)</small>"
   ]
  },
  {
   "cell_type": "markdown",
   "metadata": {
    "slideshow": {
     "slide_type": "fragment"
    }
   },
   "source": [
    "* Para formulaciones mixtas, se pueden crear espacios de funciones combinando varios"
   ]
  },
  {
   "cell_type": "markdown",
   "metadata": {
    "slideshow": {
     "slide_type": "fragment"
    }
   },
   "source": [
    "* Se puede trocear el dominio y aplicar condiciones naturales y esenciales"
   ]
  },
  {
   "cell_type": "markdown",
   "metadata": {
    "slideshow": {
     "slide_type": "fragment"
    }
   },
   "source": [
    "* A veces es necesario especificar los parámetros del *solver* para mejorar el proceso de la solución"
   ]
  },
  {
   "cell_type": "markdown",
   "metadata": {
    "slideshow": {
     "slide_type": "fragment"
    }
   },
   "source": [
    "* Para geometrías más complicadas hay que acudir a programas externos, comom **Gmsh**"
   ]
  },
  {
   "cell_type": "markdown",
   "metadata": {
    "slideshow": {
     "slide_type": "slide"
    }
   },
   "source": [
    "# 6. Recursos y alternativas\n",
    "\n",
    "* Introducción en Pybonacci: http://pybonacci.org/2015/01/20/fenics-resolucion-de-ecuaciones-diferenciales-en-python/\n",
    "* Libro de FEniCS: http://fenicsproject.org/book/\n",
    "* FEniCS Q&A: http://fenicsproject.org/qa/"
   ]
  },
  {
   "cell_type": "markdown",
   "metadata": {
    "slideshow": {
     "slide_type": "subslide"
    }
   },
   "source": [
    "Existen otras soluciones para resolver ecuaciones diferenciales con Python:\n",
    "\n",
    "* **SfePy**, también por elementos finitos, enfoque más estructural\n",
    "* **FiPy**, volúmenes finitos\n",
    "* **Clawpack**, volúmenes finitos orientado a ecuaciones hiperbólicas"
   ]
  },
  {
   "cell_type": "markdown",
   "metadata": {
    "slideshow": {
     "slide_type": "slide"
    }
   },
   "source": [
    "# Conclusiones\n",
    "\n",
    "* FEniCS es un proyecto muy ambicioso y sus bibliotecas muy potentes\n",
    "* Instalarlo ya no es un problema ;)\n",
    "* La dificultad está en la parte matemática\n",
    "* Libro un poco desactualizado **¡nueva edición próximamente!**\n",
    "* ¡Esto es solo la punta del iceberg!"
   ]
  }
 ],
 "metadata": {
  "celltoolbar": "Slideshow",
  "kernelspec": {
   "display_name": "Python 3",
   "language": "python",
   "name": "python3"
  },
  "language_info": {
   "codemirror_mode": {
    "name": "ipython",
    "version": 3
   },
   "file_extension": ".py",
   "mimetype": "text/x-python",
   "name": "python",
   "nbconvert_exporter": "python",
   "pygments_lexer": "ipython3",
   "version": "3.6.1"
  }
 },
 "nbformat": 4,
 "nbformat_minor": 1
}
